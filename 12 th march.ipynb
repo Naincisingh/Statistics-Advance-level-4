{
 "cells": [
  {
   "cell_type": "markdown",
   "id": "cfbdaa5c-52f1-41e7-a113-34fb4c170ebe",
   "metadata": {},
   "source": [
    "QTS.1"
   ]
  },
  {
   "cell_type": "code",
   "execution_count": 1,
   "id": "3721fe71-9a57-4b45-87a8-7c59c3e4328c",
   "metadata": {},
   "outputs": [
    {
     "name": "stdout",
     "output_type": "stream",
     "text": [
      "Confidence Interval: (48.21077297881646, 51.78922702118354)\n"
     ]
    }
   ],
   "source": [
    "sample_mean = 50\n",
    "std_dev = 5\n",
    "sample_size = 30  # Assuming a sample size of 30\n",
    "\n",
    "# Calculate the margin of error\n",
    "z_score = 1.96  # for a 95% confidence interval\n",
    "margin_of_error = z_score * (std_dev / (sample_size ** 0.5))\n",
    "\n",
    "# Calculate the confidence interval\n",
    "confidence_interval = (sample_mean - margin_of_error, sample_mean + margin_of_error)\n",
    "\n",
    "print(f\"Confidence Interval: {confidence_interval}\")\n"
   ]
  },
  {
   "cell_type": "markdown",
   "id": "5fad1fcc-007b-4fe7-b6fb-fd49dc120bf9",
   "metadata": {},
   "source": [
    "QTS.2"
   ]
  },
  {
   "cell_type": "code",
   "execution_count": 3,
   "id": "b808c850-24f0-4e3f-a7cd-19f7a593daa8",
   "metadata": {},
   "outputs": [
    {
     "name": "stdout",
     "output_type": "stream",
     "text": [
      "Chi-square statistic: 0.5000000000000001\n",
      "P-value: 0.9921232932326296\n"
     ]
    }
   ],
   "source": [
    "from scipy import stats\n",
    "\n",
    "# Observed counts of each color\n",
    "observed_counts = [22, 18, 21, 10, 11, 20]  # Blue, Orange, Green, Yellow, Red, Brown\n",
    "\n",
    "# Expected percentages for each color\n",
    "expected_percentages = [20, 20, 20, 10, 10, 20]  # Blue, Orange, Green, Yellow, Red, Brown\n",
    "\n",
    "# Total count of M&Ms\n",
    "total_count = sum(observed_counts)\n",
    "\n",
    "# Calculate expected counts based on the total count and expected percentages\n",
    "expected_counts = [total_count * perc / 100 for perc in expected_percentages]\n",
    "\n",
    "# Perform the chi-square test\n",
    "chisquare_statistics,p_value = stats.chisquare(observed_counts,expected_counts)\n",
    "\n",
    "print(f\"Chi-square statistic: {chisquare_statistics}\")\n",
    "print(f\"P-value: {p_value}\")\n"
   ]
  },
  {
   "cell_type": "markdown",
   "id": "34759fac-9011-44a7-aa63-b18f7e780a69",
   "metadata": {},
   "source": [
    "QTS.3"
   ]
  },
  {
   "cell_type": "code",
   "execution_count": 5,
   "id": "81c02b7b-0aca-47e5-980a-fb740b5cf477",
   "metadata": {},
   "outputs": [
    {
     "name": "stdout",
     "output_type": "stream",
     "text": [
      "Chi-square statistic: 5.833333333333334\n",
      "P-value: 0.05411376622282158\n",
      "Degree of freedom: 2\n",
      "Expected_data: [[15. 20.]\n",
      " [15. 20.]\n",
      " [15. 20.]]\n"
     ]
    }
   ],
   "source": [
    "import numpy as np\n",
    "from scipy import stats\n",
    "\n",
    "# Creating the contingency table (example data)\n",
    "observed = np.array([[20,15],\n",
    "                     [10,25],[15,20]])\n",
    "\n",
    "# Perform the chi-square test\n",
    "chi2, p, dof, expected = stats.chi2_contingency(observed)\n",
    "\n",
    "print(f\"Chi-square statistic: {chi2}\")\n",
    "print(f\"P-value: {p}\")\n",
    "print(f\"Degree of freedom: {dof}\")\n",
    "print(f\"Expected_data: {expected}\")\n"
   ]
  },
  {
   "cell_type": "markdown",
   "id": "4cbdf9b7-be45-456c-967d-c74f2431bfa6",
   "metadata": {},
   "source": [
    "QTS.4"
   ]
  },
  {
   "cell_type": "code",
   "execution_count": 6,
   "id": "88b4d737-cdd7-4fb7-b839-29f4f3b1e057",
   "metadata": {},
   "outputs": [
    {
     "name": "stdout",
     "output_type": "stream",
     "text": [
      "95% Confidence Interval for the true proportion of smokers: (0.09151586546865079, 0.1484841345313492)\n"
     ]
    }
   ],
   "source": [
    "import math\n",
    "\n",
    "# Given data\n",
    "total_individuals = 500\n",
    "smokers = 60\n",
    "\n",
    "# Calculate the sample proportion\n",
    "sample_proportion = smokers / total_individuals\n",
    "\n",
    "# Calculate the z-score for a 95% confidence interval\n",
    "z_score = 1.96\n",
    "\n",
    "# Calculate the margin of error\n",
    "margin_of_error = z_score * math.sqrt((sample_proportion * (1 - sample_proportion)) / total_individuals)\n",
    "\n",
    "# Calculate the confidence interval\n",
    "confidence_interval = (sample_proportion - margin_of_error, sample_proportion + margin_of_error)\n",
    "\n",
    "print(\"95% Confidence Interval for the true proportion of smokers:\", confidence_interval)\n"
   ]
  },
  {
   "cell_type": "code",
   "execution_count": 6,
   "id": "bf8da480-ed1a-497d-ae3e-c09da9139c0d",
   "metadata": {},
   "outputs": [
    {
     "name": "stdout",
     "output_type": "stream",
     "text": [
      "95% Confidence Interval for the true proportion of smokers: (0.09151586546865079, 0.1484841345313492)\n"
     ]
    }
   ],
   "source": [
    "import math\n",
    "\n",
    "# Given data\n",
    "samp_std = 12\n",
    "samp_mean = 75\n",
    "ci=0.90\n",
    "alpha=1-ci\n",
    "\n",
    "# Calculate the z-score for a 90% confidence interval\n",
    "z_score = stats.norm.ppf(1-ci)\n",
    "\n",
    "# Calculate the margin of error\n",
    "margin_of_error = z_score * (samp_std/())\n",
    "\n",
    "# Calculate the confidence interval\n",
    "confidence_interval = (sample_proportion - margin_of_error, sample_proportion + margin_of_error)\n",
    "\n",
    "print(\"95% Confidence Interval for the true proportion of smokers:\", confidence_interval)\n"
   ]
  },
  {
   "cell_type": "markdown",
   "id": "24a55aa2-2654-4755-9f1f-4f4124931106",
   "metadata": {},
   "source": [
    "QTS.5"
   ]
  },
  {
   "cell_type": "code",
   "execution_count": 7,
   "id": "d0ef0e3c-fdc7-4144-87db-36ba7b70ec4d",
   "metadata": {},
   "outputs": [
    {
     "name": "stdout",
     "output_type": "stream",
     "text": [
      "90% Confidence Interval: (73.02617564765823, 76.97382435234177)\n"
     ]
    }
   ],
   "source": [
    "from scipy import stats\n",
    "import math\n",
    "\n",
    "# Given data\n",
    "mean = 75\n",
    "std_dev = 12\n",
    "confidence_level = 0.90  # 90% confidence interval\n",
    "sample_size = 100\n",
    "\n",
    "# Calculating the Z-score for the given confidence level\n",
    "z_score = stats.norm.ppf((1 + confidence_level) / 2)\n",
    "\n",
    "# Calculating the margin of error\n",
    "margin_of_error = z_score * (std_dev / math.sqrt(sample_size))\n",
    "\n",
    "# Calculating the confidence interval\n",
    "lower_bound = mean - margin_of_error\n",
    "upper_bound = mean + margin_of_error\n",
    "\n",
    "print(f\"90% Confidence Interval: ({lower_bound}, {upper_bound})\")\n"
   ]
  },
  {
   "cell_type": "markdown",
   "id": "04e3032c-1ac4-4eba-88e6-4db575be6241",
   "metadata": {},
   "source": [
    "QTS.6"
   ]
  },
  {
   "cell_type": "code",
   "execution_count": 16,
   "id": "b8457485-ff2c-4758-b110-a36f1664fa19",
   "metadata": {},
   "outputs": [
    {
     "data": {
      "image/png": "[encoded data removed]",
      "text/plain": [
       "<Figure size 800x600 with 1 Axes>"
      ]
     },
     "metadata": {},
     "output_type": "display_data"
    }
   ],
   "source": [
    "import matplotlib.pyplot as plt\n",
    "import numpy as np\n",
    "from scipy.stats import chi2\n",
    "\n",
    "degrees_of_freedom = 10  # Degrees of freedom for the chi-square distribution\n",
    "\n",
    "x = np.linspace(0, 30, 1000)  # Generating x values for the plot\n",
    "\n",
    "# Calculate the probability density function (pdf) for the chi-square distribution\n",
    "pdf = chi2.pdf(x, degrees_of_freedom)\n",
    "\n",
    "# Plotting the chi-square distribution\n",
    "plt.figure(figsize=(8, 6))\n",
    "plt.plot(x, pdf, label=f'Chi-square with {degrees_of_freedom} degrees of freedom')\n",
    "plt.xlabel('X')\n",
    "plt.ylabel('Probability Density Function')\n",
    "plt.title('Chi-square Distribution')\n",
    "\n",
    "# Shade the area corresponding to a chi-square statistic of 15\n",
    "shade = np.linspace(0, 30, 1000)\n",
    "plt.fill_between(shade, 0, chi2.pdf(shade, degrees_of_freedom), where=(shade > 15), color='orange')\n",
    "\n",
    "plt.legend()\n",
    "plt.grid(True)\n",
    "plt.show()\n"
   ]
  },
  {
   "cell_type": "markdown",
   "id": "ef4ef2f9-2db1-470c-87e5-1bb3ccbf3beb",
   "metadata": {},
   "source": [
    "QTS.7"
   ]
  },
  {
   "cell_type": "code",
   "execution_count": 23,
   "id": "23ae1e4d-324b-40d9-b0d6-ab5bc1aa744b",
   "metadata": {},
   "outputs": [
    {
     "name": "stdout",
     "output_type": "stream",
     "text": [
      "99% Confidence Interval for the true proportion of coke seekers: (0.4793051576779699, 0.5606948423220302)\n"
     ]
    }
   ],
   "source": [
    "import math\n",
    "\n",
    "# Given data\n",
    "total_individuals = 1000\n",
    "coke = 520\n",
    "ci=0.99\n",
    "\n",
    "# Calculate the sample proportion\n",
    "sample_proportion = coke / total_individuals\n",
    "\n",
    "# Calculate the z-score for a 99% confidence interval\n",
    "z_score = stats.norm.ppf((1+ci)/2)\n",
    "\n",
    "# Calculate the margin of error\n",
    "margin_of_error = z_score * math.sqrt((sample_proportion * (1 - sample_proportion)) / total_individuals)\n",
    "\n",
    "# Calculate the confidence interval\n",
    "confidence_interval = (sample_proportion - margin_of_error, sample_proportion + margin_of_error)\n",
    "\n",
    "print(\"99% Confidence Interval for the true proportion of coke seekers:\", confidence_interval)\n"
   ]
  },
  {
   "cell_type": "markdown",
   "id": "07d7d43e-2601-4d1e-9496-1d309a052981",
   "metadata": {},
   "source": [
    "QTS.8"
   ]
  },
  {
   "cell_type": "code",
   "execution_count": 24,
   "id": "89b76d3b-2778-4421-8624-7bad36c7d5bc",
   "metadata": {},
   "outputs": [
    {
     "name": "stdout",
     "output_type": "stream",
     "text": [
      "Chi-square Statistic: 0.5\n",
      "Critical Value: 3.841458820694124\n",
      "Fail to reject the null hypothesis: The coin is not biased.\n"
     ]
    }
   ],
   "source": [
    "from scipy.stats import chi2\n",
    "\n",
    "# Given data\n",
    "observed_tails = 45\n",
    "expected_tails = 50  # For a fair coin, expected tails is 50\n",
    "sample_size = 100\n",
    "significance_level = 0.05\n",
    "\n",
    "# Calculating the chi-square statistic\n",
    "chi_square = ((observed_tails - expected_tails) ** 2) / expected_tails\n",
    "\n",
    "# Degrees of freedom for a goodness of fit test is categories - 1\n",
    "degrees_of_freedom = 1\n",
    "\n",
    "# Finding the critical value for the chi-square test\n",
    "critical_value = chi2.ppf(1 - significance_level, degrees_of_freedom)\n",
    "\n",
    "print(f\"Chi-square Statistic: {chi_square}\")\n",
    "print(f\"Critical Value: {critical_value}\")\n",
    "\n",
    "# Compare the chi-square statistic with the critical value\n",
    "if chi_square > critical_value:\n",
    "    print(\"Reject the null hypothesis: The coin is biased.\")\n",
    "else:\n",
    "    print(\"Fail to reject the null hypothesis: The coin is not biased.\")\n"
   ]
  },
  {
   "cell_type": "markdown",
   "id": "b3c50ba2-2990-4129-9541-5e11bbb362db",
   "metadata": {},
   "source": [
    "QTS.9"
   ]
  },
  {
   "cell_type": "code",
   "execution_count": null,
   "id": "16d1b378-5afd-4226-920b-1b12e2d78aea",
   "metadata": {},
   "outputs": [],
   "source": [
    "import numpy as np\n",
    "from scipy import stats\n",
    "import pandas as pd\n",
    "\n",
    "# Creating the contingency table (example data)\n",
    "observed = pd.DataFrame([[60,140],[30,170]],columns=[\"LungCancer:Yes\",\"LungCancer:No\"],index=[\"Smoker\",\"Non-Smoker\"])\n",
    "\n",
    "# Perform the chi-square test\n",
    "chi2, p, dof, expected = stats.chi2_contingency(observed)\n",
    "\n",
    "print(f\"Chi-square statistic: {chi2}\")\n",
    "print(f\"P-value: {p}\")\n",
    "print(f\"Degree of freedom: {dof}\")\n",
    "print(f\"Expected_data: {expected}\")\n",
    "\n",
    "# Compare the p-value with the significance level\n",
    "if p < significance_level:\n",
    "    print(\"Reject the null hypothesis: There is a significant association between smoking status and lung cancer diagnosis.\")\n",
    "else:\n",
    "    print(\"Fail to reject the null hypothesis: There is no significant association between smoking status and lung cancer diagnosis.\")\n"
   ]
  },
  {
   "cell_type": "markdown",
   "id": "4b39680d-eb2b-4ee9-905c-d7b3c6885d65",
   "metadata": {},
   "source": [
    "QTS.10"
   ]
  },
  {
   "cell_type": "code",
   "execution_count": 37,
   "id": "389d591b-a9a3-40ba-93b2-3298a1a76349",
   "metadata": {},
   "outputs": [
    {
     "name": "stdout",
     "output_type": "stream",
     "text": [
      "Chi-square Statistic: 13.393665158371041\n",
      "P-value: 0.0012348168997745918\n",
      "Reject the null hypothesis: There is a significant association between chocolate preference and country of origin.\n"
     ]
    }
   ],
   "source": [
    "from scipy.stats import chi2_contingency\n",
    "\n",
    "# Given data in the contingency table\n",
    "observed = [[200, 150, 150],\n",
    "            [225, 175, 100]]\n",
    "\n",
    "# Performing the chi-square test for independence\n",
    "chi2, p, dof, expected = chi2_contingency(observed)\n",
    "\n",
    "significance_level = 0.01\n",
    "\n",
    "print(f\"Chi-square Statistic: {chi2}\")\n",
    "print(f\"P-value: {p}\")\n",
    "\n",
    "# Compare the p-value with the significance level\n",
    "if p < significance_level:\n",
    "    print(\"Reject the null hypothesis: There is a significant association between chocolate preference and country of origin.\")\n",
    "else:\n",
    "    print(\"Fail to reject the null hypothesis: There is no significant association between chocolate preference and country of origin.\")\n"
   ]
  },
  {
   "cell_type": "markdown",
   "id": "770cb56a-9868-4ad5-be90-55a66af6823f",
   "metadata": {},
   "source": [
    "QTS.11"
   ]
  },
  {
   "cell_type": "code",
   "execution_count": 38,
   "id": "fa1e9b05-5c43-48fc-b2b0-26ea6251acf0",
   "metadata": {},
   "outputs": [
    {
     "name": "stdout",
     "output_type": "stream",
     "text": [
      "t-test Statistic: 1.0954451150103321\n",
      "Critical Value: 2.045229642132703\n",
      "Fail to reject the null hypothesis: There is no significant difference in the population mean from 70.\n"
     ]
    }
   ],
   "source": [
    "from scipy.stats import t\n",
    "\n",
    "# Given data\n",
    "sample_mean = 72\n",
    "pop_mean = 70\n",
    "sample_std = 10\n",
    "sample_size = 30\n",
    "significance_level = 0.05\n",
    "\n",
    "# Calculate the t-test statistic\n",
    "t_stat = (sample_mean - pop_mean) / (sample_std / (sample_size ** 0.5))\n",
    "\n",
    "# Degrees of freedom\n",
    "degrees_of_freedom = sample_size - 1\n",
    "\n",
    "# Calculate the critical value\n",
    "critical_value = t.ppf(1 - significance_level / 2, degrees_of_freedom)\n",
    "\n",
    "print(f\"t-test Statistic: {t_stat}\")\n",
    "print(f\"Critical Value: {critical_value}\")\n",
    "\n",
    "# Compare the t-test statistic with the critical value\n",
    "if abs(t_stat) > critical_value:\n",
    "    print(\"Reject the null hypothesis: The population mean is significantly different from 70.\")\n",
    "else:\n",
    "    print(\"Fail to reject the null hypothesis: There is no significant difference in the population mean from 70.\")\n"
   ]
  },
  {
   "cell_type": "code",
   "execution_count": null,
   "id": "f8db0ec6-1088-4ee2-945b-4fed819046ff",
   "metadata": {},
   "outputs": [],
   "source": []
  }
 ],
 "metadata": {
  "kernelspec": {
   "display_name": "Python 3 (ipykernel)",
   "language": "python",
   "name": "python3"
  },
  "language_info": {
   "codemirror_mode": {
    "name": "ipython",
    "version": 3
   },
   "file_extension": ".py",
   "mimetype": "text/x-python",
   "name": "python",
   "nbconvert_exporter": "python",
   "pygments_lexer": "ipython3",
   "version": "3.10.8"
  }
 },
 "nbformat": 4,
 "nbformat_minor": 5
}
